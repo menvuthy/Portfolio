{
 "cells": [
  {
   "cell_type": "markdown",
   "metadata": {},
   "source": [
    "# 2. Create Mosaic of 2011 NDVI Images\n",
    "*Written by Men Vuthy, 2021*"
   ]
  },
  {
   "cell_type": "markdown",
   "metadata": {},
   "source": [
    "---"
   ]
  },
  {
   "cell_type": "markdown",
   "metadata": {},
   "source": [
    "**Import modules**"
   ]
  },
  {
   "cell_type": "code",
   "execution_count": 1,
   "metadata": {},
   "outputs": [],
   "source": [
    "import rasterio\n",
    "import pandas as pd\n",
    "import numpy as np\n",
    "import matplotlib.pyplot as plt\n",
    "%matplotlib inline\n",
    "import glob\n",
    "import os"
   ]
  },
  {
   "cell_type": "markdown",
   "metadata": {},
   "source": [
    "**Create path of all ndvi image files**"
   ]
  },
  {
   "cell_type": "code",
   "execution_count": 2,
   "metadata": {},
   "outputs": [
    {
     "name": "stdout",
     "output_type": "stream",
     "text": [
      "['input/ndvi_2011\\\\2010_01_01.tif', 'input/ndvi_2011\\\\2010_01_17.tif', 'input/ndvi_2011\\\\2010_02_02.tif', 'input/ndvi_2011\\\\2010_02_18.tif', 'input/ndvi_2011\\\\2010_03_06.tif', 'input/ndvi_2011\\\\2010_03_22.tif', 'input/ndvi_2011\\\\2010_04_07.tif', 'input/ndvi_2011\\\\2010_04_23.tif', 'input/ndvi_2011\\\\2010_05_09.tif', 'input/ndvi_2011\\\\2010_05_25.tif', 'input/ndvi_2011\\\\2010_06_10.tif', 'input/ndvi_2011\\\\2010_06_26.tif', 'input/ndvi_2011\\\\2010_07_12.tif', 'input/ndvi_2011\\\\2010_07_28.tif', 'input/ndvi_2011\\\\2010_08_13.tif', 'input/ndvi_2011\\\\2010_08_29.tif', 'input/ndvi_2011\\\\2010_09_14.tif', 'input/ndvi_2011\\\\2010_09_30.tif', 'input/ndvi_2011\\\\2010_10_16.tif', 'input/ndvi_2011\\\\2010_11_01.tif', 'input/ndvi_2011\\\\2010_11_17.tif', 'input/ndvi_2011\\\\2010_12_03.tif', 'input/ndvi_2011\\\\2010_12_19.tif', 'input/ndvi_2011\\\\2011_01_01.tif', 'input/ndvi_2011\\\\2011_01_17.tif', 'input/ndvi_2011\\\\2011_02_02.tif', 'input/ndvi_2011\\\\2011_02_18.tif', 'input/ndvi_2011\\\\2011_03_06.tif', 'input/ndvi_2011\\\\2011_03_22.tif', 'input/ndvi_2011\\\\2011_04_07.tif', 'input/ndvi_2011\\\\2011_04_23.tif', 'input/ndvi_2011\\\\2011_05_09.tif', 'input/ndvi_2011\\\\2011_05_25.tif', 'input/ndvi_2011\\\\2011_06_10.tif', 'input/ndvi_2011\\\\2011_06_26.tif', 'input/ndvi_2011\\\\2011_07_12.tif', 'input/ndvi_2011\\\\2011_07_28.tif', 'input/ndvi_2011\\\\2011_08_13.tif', 'input/ndvi_2011\\\\2011_08_29.tif', 'input/ndvi_2011\\\\2011_09_14.tif', 'input/ndvi_2011\\\\2011_09_30.tif', 'input/ndvi_2011\\\\2011_10_16.tif', 'input/ndvi_2011\\\\2011_11_01.tif', 'input/ndvi_2011\\\\2011_11_17.tif', 'input/ndvi_2011\\\\2011_12_03.tif', 'input/ndvi_2011\\\\2011_12_19.tif', 'input/ndvi_2011\\\\2012_01_01.tif', 'input/ndvi_2011\\\\2012_01_17.tif', 'input/ndvi_2011\\\\2012_02_02.tif', 'input/ndvi_2011\\\\2012_02_18.tif', 'input/ndvi_2011\\\\2012_03_05.tif', 'input/ndvi_2011\\\\2012_03_21.tif', 'input/ndvi_2011\\\\2012_04_06.tif', 'input/ndvi_2011\\\\2012_04_22.tif', 'input/ndvi_2011\\\\2012_05_08.tif', 'input/ndvi_2011\\\\2012_05_24.tif', 'input/ndvi_2011\\\\2012_06_09.tif', 'input/ndvi_2011\\\\2012_06_25.tif', 'input/ndvi_2011\\\\2012_07_11.tif', 'input/ndvi_2011\\\\2012_07_27.tif', 'input/ndvi_2011\\\\2012_08_12.tif', 'input/ndvi_2011\\\\2012_08_28.tif', 'input/ndvi_2011\\\\2012_09_13.tif', 'input/ndvi_2011\\\\2012_09_29.tif', 'input/ndvi_2011\\\\2012_10_15.tif', 'input/ndvi_2011\\\\2012_10_31.tif', 'input/ndvi_2011\\\\2012_11_16.tif', 'input/ndvi_2011\\\\2012_12_02.tif', 'input/ndvi_2011\\\\2012_12_18.tif']\n"
     ]
    }
   ],
   "source": [
    "# File and folder paths\n",
    "file_path = \"input/ndvi_2011\"\n",
    "\n",
    "# Make a search criteria to select the ndvi files\n",
    "q = os.path.join(file_path, \"20*.tif\")\n",
    "\n",
    "ndvi_fp = sorted(glob.glob(q)) # sorted files by name\n",
    "\n",
    "print(ndvi_fp)"
   ]
  },
  {
   "cell_type": "markdown",
   "metadata": {},
   "source": [
    "**List of ndvi image date and image array**"
   ]
  },
  {
   "cell_type": "code",
   "execution_count": 3,
   "metadata": {},
   "outputs": [
    {
     "name": "stdout",
     "output_type": "stream",
     "text": [
      "['2010/01/01', '2010/01/17', '2010/02/02', '2010/02/18', '2010/03/06', '2010/03/22', '2010/04/07', '2010/04/23', '2010/05/09', '2010/05/25', '2010/06/10', '2010/06/26', '2010/07/12', '2010/07/28', '2010/08/13', '2010/08/29', '2010/09/14', '2010/09/30', '2010/10/16', '2010/11/01', '2010/11/17', '2010/12/03', '2010/12/19', '2011/01/01', '2011/01/17', '2011/02/02', '2011/02/18', '2011/03/06', '2011/03/22', '2011/04/07', '2011/04/23', '2011/05/09', '2011/05/25', '2011/06/10', '2011/06/26', '2011/07/12', '2011/07/28', '2011/08/13', '2011/08/29', '2011/09/14', '2011/09/30', '2011/10/16', '2011/11/01', '2011/11/17', '2011/12/03', '2011/12/19', '2012/01/01', '2012/01/17', '2012/02/02', '2012/02/18', '2012/03/05', '2012/03/21', '2012/04/06', '2012/04/22', '2012/05/08', '2012/05/24', '2012/06/09', '2012/06/25', '2012/07/11', '2012/07/27', '2012/08/12', '2012/08/28', '2012/09/13', '2012/09/29', '2012/10/15', '2012/10/31', '2012/11/16', '2012/12/02', '2012/12/18']\n"
     ]
    }
   ],
   "source": [
    "img_date = []\n",
    "\n",
    "for file in ndvi_fp:\n",
    "    name = os.path.basename(file)\n",
    "    name_ver2 = name.replace(\"_\",\"/\")\n",
    "    name_ver3 = name_ver2.replace(\".tif\",\"\")\n",
    "    img_date.append(name_ver3)\n",
    "\n",
    "print(img_date)"
   ]
  },
  {
   "cell_type": "code",
   "execution_count": 4,
   "metadata": {},
   "outputs": [],
   "source": [
    "# List for the source files\n",
    "img_array = []\n",
    "\n",
    "# Iterate over raster files and read them\n",
    "for path in ndvi_fp:\n",
    "    image = rasterio.open(path)\n",
    "    image = image.read(1)\n",
    "    img_array.append(image)\n"
   ]
  },
  {
   "cell_type": "markdown",
   "metadata": {},
   "source": [
    "**Normalize ndvi images**"
   ]
  },
  {
   "cell_type": "code",
   "execution_count": 5,
   "metadata": {},
   "outputs": [],
   "source": [
    "def cal_index(img):\n",
    "    # By default numpy will complain about dividing with zero values. \n",
    "    # We need to change that behaviour because we have a lot of 0 values in our data.\n",
    "    np.seterr(divide='ignore', invalid='ignore')\n",
    "    \n",
    "    # Convert ndvi scale index to -1, 1\n",
    "    ndvi_idx = img/10000\n",
    "    \n",
    "    return ndvi_idx"
   ]
  },
  {
   "cell_type": "code",
   "execution_count": 6,
   "metadata": {},
   "outputs": [
    {
     "data": {
      "text/plain": [
       "(69, 521, 753)"
      ]
     },
     "execution_count": 6,
     "metadata": {},
     "output_type": "execute_result"
    }
   ],
   "source": [
    "# Normalize all images\n",
    "normalized_image = []\n",
    "\n",
    "for array in img_array:\n",
    "    \n",
    "    normalized_image.append(cal_index(array))\n",
    "\n",
    "NDVI_Images = np.array(normalized_image)\n",
    "\n",
    "# Check Shape\n",
    "NDVI_Images.shape"
   ]
  },
  {
   "cell_type": "markdown",
   "metadata": {},
   "source": [
    "**Save as Raster**"
   ]
  },
  {
   "cell_type": "code",
   "execution_count": 7,
   "metadata": {},
   "outputs": [],
   "source": [
    "# Add one image for projection and shape reference\n",
    "raster = rasterio.open(\"input/ndvi_2011/2011_07_28.tif\")"
   ]
  },
  {
   "cell_type": "code",
   "execution_count": 8,
   "metadata": {},
   "outputs": [],
   "source": [
    "# Data dir\n",
    "data_dir = \"output/1/mosaic_img/\"\n",
    "\n",
    "# Output raster\n",
    "out_tif = os.path.join(data_dir, \"NDVI_2011.tif\")\n",
    "\n",
    "# Copy the metadata\n",
    "out_meta = raster.meta.copy()\n",
    "out_meta\n",
    "\n",
    "# Update the metadata\n",
    "out_meta.update({'driver': 'GTiff',\n",
    "                 'dtype': 'float32',\n",
    "                 'nodata': None,\n",
    "                 'width': raster.shape[1],\n",
    "                 'height': raster.shape[0],\n",
    "                 'count': NDVI_Images.shape[0],\n",
    "                 'crs': raster.crs,\n",
    "                 'transform': raster.transform\n",
    "                })\n",
    "\n",
    "with rasterio.open(out_tif, \"w\", **out_meta) as dest:\n",
    "    dest.write(NDVI_Images.astype(np.float32))"
   ]
  },
  {
   "cell_type": "markdown",
   "metadata": {},
   "source": [
    "**Save ndvi plot into PNG files**"
   ]
  },
  {
   "cell_type": "code",
   "execution_count": 9,
   "metadata": {},
   "outputs": [],
   "source": [
    "for i in range(len(img_date)):\n",
    "    plt.rcParams[\"figure.figsize\"] = (10,10)\n",
    "    plt.imshow(normalized_image[i], cmap='PRGn', vmin = -1, vmax = 1)\n",
    "    plt.colorbar(fraction=0.03, pad=0.04)\n",
    "    outfp = 'output/1/png_img/'\n",
    "    plt.title(img_date[i])\n",
    "    plt.savefig(outfp+'{0:.0f}.png'.format(i), dpi = 300)\n",
    "    plt.close();"
   ]
  },
  {
   "cell_type": "markdown",
   "metadata": {},
   "source": [
    "**Create GIF files to see timelapse of ndvi from 2019-2020**"
   ]
  },
  {
   "cell_type": "code",
   "execution_count": 10,
   "metadata": {},
   "outputs": [],
   "source": [
    "import natsort\n",
    "from PIL import Image\n",
    "\n",
    "fp_in = \"output/1/png_img/*.png\"\n",
    "fp_out = \"output/1/gif_img/ndvi_change_2010_2012.gif\"\n",
    "\n",
    "png_unsorted = glob.glob(os.path.join(fp_in))  \n",
    "png_img = natsort.natsorted(png_unsorted,reverse=False)   # sorted files by name\n",
    "\n",
    "img, *imgs = [Image.open(f) for f in png_img]\n",
    "img.save(fp=fp_out, format='GIF', append_images=imgs,\n",
    "         save_all=True, duration=200, loop=0)"
   ]
  },
  {
   "cell_type": "code",
   "execution_count": 11,
   "metadata": {},
   "outputs": [
    {
     "data": {
      "text/html": [
       "<img src=\"output/1/gif_img/ndvi_change_2010_2012.gif\" width=50%>"
      ],
      "text/plain": [
       "<IPython.core.display.HTML object>"
      ]
     },
     "execution_count": 11,
     "metadata": {},
     "output_type": "execute_result"
    }
   ],
   "source": [
    "from IPython.display import HTML\n",
    "HTML('<img src=\"output/1/gif_img/ndvi_change_2010_2012.gif\" width=50%>')"
   ]
  },
  {
   "cell_type": "markdown",
   "metadata": {},
   "source": [
    "---"
   ]
  }
 ],
 "metadata": {
  "kernelspec": {
   "display_name": "Python 3",
   "language": "python",
   "name": "python3"
  },
  "language_info": {
   "codemirror_mode": {
    "name": "ipython",
    "version": 3
   },
   "file_extension": ".py",
   "mimetype": "text/x-python",
   "name": "python",
   "nbconvert_exporter": "python",
   "pygments_lexer": "ipython3",
   "version": "3.7.10"
  }
 },
 "nbformat": 4,
 "nbformat_minor": 4
}
