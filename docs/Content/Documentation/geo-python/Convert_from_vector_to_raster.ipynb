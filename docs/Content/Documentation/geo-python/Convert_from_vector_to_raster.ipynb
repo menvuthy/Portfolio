{
  "cells": [
    {
      "cell_type": "markdown",
      "metadata": {
        "id": "Sp9SMWNcgicC"
      },
      "source": [
        "# Convert from Vector to Raster\n",
        "\n",
        "*Written by Men Vuthy, 2022*\n",
        "\n",
        "---"
      ]
    },
    {
      "cell_type": "markdown",
      "metadata": {
        "id": "1VzTJ_BDhIT1"
      },
      "source": [
        "### Dataset\n",
        "\n",
        "- Vector: H30植物群落.shp\n",
        "- Reference raster: kano_20180429_wgs84.tiff\n"
      ]
    },
    {
      "cell_type": "markdown",
      "metadata": {},
      "source": [
        "<img src=\"img-markdown/image-3.png\" width=\"45%\">\n",
        "<img src=\"img-markdown/image-4.png\" width=\"45%\">"
      ]
    },
    {
      "cell_type": "markdown",
      "metadata": {
        "id": "7iZbcR0agicG"
      },
      "source": [
        "### Import necessary modules"
      ]
    },
    {
      "cell_type": "code",
      "execution_count": null,
      "metadata": {
        "colab": {
          "base_uri": "https://localhost:8080/"
        },
        "id": "EmjEANjqiisn",
        "outputId": "4afa4a98-8f81-44f1-edd2-b9ea70eab128"
      },
      "outputs": [],
      "source": [
        "!pip install rasterio\n",
        "!pip install geopandas"
      ]
    },
    {
      "cell_type": "code",
      "execution_count": 2,
      "metadata": {
        "id": "FapxUdeSgicG"
      },
      "outputs": [],
      "source": [
        "import os\n",
        "import numpy as np\n",
        "import rasterio\n",
        "from rasterio.features import rasterize\n",
        "from rasterio.transform import from_bounds\n",
        "import geopandas as gpd\n",
        "import matplotlib.pyplot as plt"
      ]
    },
    {
      "cell_type": "markdown",
      "metadata": {
        "id": "bA6pCLEMi43C"
      },
      "source": [
        "*Mount drive*"
      ]
    },
    {
      "cell_type": "code",
      "execution_count": 3,
      "metadata": {
        "colab": {
          "base_uri": "https://localhost:8080/"
        },
        "id": "VfihV5Wwi0tZ",
        "outputId": "ac1722b2-ca28-4662-bc22-75d15997f884"
      },
      "outputs": [
        {
          "name": "stdout",
          "output_type": "stream",
          "text": [
            "Drive already mounted at /content/drive; to attempt to forcibly remount, call drive.mount(\"/content/drive\", force_remount=True).\n"
          ]
        }
      ],
      "source": [
        "from google.colab import drive\n",
        "drive.mount('/content/drive')"
      ]
    },
    {
      "cell_type": "code",
      "execution_count": 4,
      "metadata": {
        "colab": {
          "base_uri": "https://localhost:8080/"
        },
        "id": "vex9Bx40iz6q",
        "outputId": "6e2992a8-6362-48e8-d2e0-45be56a8e547"
      },
      "outputs": [
        {
          "name": "stdout",
          "output_type": "stream",
          "text": [
            "/content/drive/MyDrive/Colab Notebooks/Z. Other topics/Convert shapefile to raster\n"
          ]
        }
      ],
      "source": [
        "cd /content/drive/MyDrive/Colab Notebooks/Z. Other topics/Convert shapefile to raster"
      ]
    },
    {
      "cell_type": "markdown",
      "metadata": {
        "id": "hOSENVvFgicH"
      },
      "source": [
        "### Load dataset"
      ]
    },
    {
      "cell_type": "code",
      "execution_count": 5,
      "metadata": {
        "id": "A6SSQWmDgicI"
      },
      "outputs": [],
      "source": [
        "# Load raster image for reference\n",
        "image_ref = rasterio.open('data/kano_20180429_wgs84.tiff')\n",
        "\n",
        "# Load survey data shapefile or json file\n",
        "geo_survey = gpd.read_file('data/水国/H30植物群落.shp').to_crs(image_ref.crs)"
      ]
    },
    {
      "cell_type": "code",
      "execution_count": 6,
      "metadata": {
        "colab": {
          "base_uri": "https://localhost:8080/",
          "height": 658
        },
        "id": "t1Z6Rqn3jj9D",
        "outputId": "adc75f4d-f3d0-44f1-bcdc-e53a13abcff5"
      },
      "outputs": [
        {
          "data": {
            "text/html": [
              "\n",
              "  <div id=\"df-00321aa0-e2f8-4fc3-871d-8ee13a2e155c\">\n",
              "    <div class=\"colab-df-container\">\n",
              "      <div>\n",
              "<style scoped>\n",
              "    .dataframe tbody tr th:only-of-type {\n",
              "        vertical-align: middle;\n",
              "    }\n",
              "\n",
              "    .dataframe tbody tr th {\n",
              "        vertical-align: top;\n",
              "    }\n",
              "\n",
              "    .dataframe thead th {\n",
              "        text-align: right;\n",
              "    }\n",
              "</style>\n",
              "<table border=\"1\" class=\"dataframe\">\n",
              "  <thead>\n",
              "    <tr style=\"text-align: right;\">\n",
              "      <th></th>\n",
              "      <th>Id</th>\n",
              "      <th>code</th>\n",
              "      <th>area_ha</th>\n",
              "      <th>基本分類</th>\n",
              "      <th>基本分類No</th>\n",
              "      <th>群落コード</th>\n",
              "      <th>群落表示コ</th>\n",
              "      <th>群落名</th>\n",
              "      <th>lyr_code</th>\n",
              "      <th>調査管理番</th>\n",
              "      <th>河川コード</th>\n",
              "      <th>調査年度</th>\n",
              "      <th>調査回</th>\n",
              "      <th>調査年月日</th>\n",
              "      <th>表示用</th>\n",
              "      <th>geometry</th>\n",
              "    </tr>\n",
              "  </thead>\n",
              "  <tbody>\n",
              "    <tr>\n",
              "      <th>0</th>\n",
              "      <td>0</td>\n",
              "      <td>02</td>\n",
              "      <td>0.042844</td>\n",
              "      <td>沈水植物群落</td>\n",
              "      <td>1</td>\n",
              "      <td>1003</td>\n",
              "      <td>013</td>\n",
              "      <td>ホザキノフサモ群落</td>\n",
              "      <td>WA8312</td>\n",
              "      <td>R2018_85_11350_3_U29358</td>\n",
              "      <td>9-85-501-001-000-2</td>\n",
              "      <td>2018</td>\n",
              "      <td>1</td>\n",
              "      <td>20181105</td>\n",
              "      <td>None</td>\n",
              "      <td>POLYGON ((138.93902 35.05341, 138.93902 35.053...</td>\n",
              "    </tr>\n",
              "    <tr>\n",
              "      <th>1</th>\n",
              "      <td>0</td>\n",
              "      <td>02</td>\n",
              "      <td>0.015477</td>\n",
              "      <td>沈水植物群落</td>\n",
              "      <td>1</td>\n",
              "      <td>1003</td>\n",
              "      <td>013</td>\n",
              "      <td>ホザキノフサモ群落</td>\n",
              "      <td>WA8312</td>\n",
              "      <td>R2018_85_11350_3_U29358</td>\n",
              "      <td>9-85-501-001-000-2</td>\n",
              "      <td>2018</td>\n",
              "      <td>1</td>\n",
              "      <td>20181105</td>\n",
              "      <td>None</td>\n",
              "      <td>POLYGON ((138.93657 35.06657, 138.93655 35.066...</td>\n",
              "    </tr>\n",
              "    <tr>\n",
              "      <th>2</th>\n",
              "      <td>0</td>\n",
              "      <td>02</td>\n",
              "      <td>0.013277</td>\n",
              "      <td>沈水植物群落</td>\n",
              "      <td>1</td>\n",
              "      <td>1003</td>\n",
              "      <td>013</td>\n",
              "      <td>ホザキノフサモ群落</td>\n",
              "      <td>WA8312</td>\n",
              "      <td>R2018_85_11350_3_U29358</td>\n",
              "      <td>9-85-501-001-000-2</td>\n",
              "      <td>2018</td>\n",
              "      <td>1</td>\n",
              "      <td>20181105</td>\n",
              "      <td>None</td>\n",
              "      <td>POLYGON ((138.93926 35.05376, 138.93923 35.053...</td>\n",
              "    </tr>\n",
              "    <tr>\n",
              "      <th>3</th>\n",
              "      <td>0</td>\n",
              "      <td>02</td>\n",
              "      <td>0.024026</td>\n",
              "      <td>沈水植物群落</td>\n",
              "      <td>1</td>\n",
              "      <td>1003</td>\n",
              "      <td>013</td>\n",
              "      <td>ホザキノフサモ群落</td>\n",
              "      <td>WA8312</td>\n",
              "      <td>R2018_85_11350_3_U29358</td>\n",
              "      <td>9-85-501-001-000-2</td>\n",
              "      <td>2018</td>\n",
              "      <td>1</td>\n",
              "      <td>20181105</td>\n",
              "      <td>None</td>\n",
              "      <td>POLYGON ((138.93913 35.05392, 138.93914 35.053...</td>\n",
              "    </tr>\n",
              "    <tr>\n",
              "      <th>4</th>\n",
              "      <td>0</td>\n",
              "      <td>02</td>\n",
              "      <td>0.062657</td>\n",
              "      <td>沈水植物群落</td>\n",
              "      <td>1</td>\n",
              "      <td>1003</td>\n",
              "      <td>013</td>\n",
              "      <td>ホザキノフサモ群落</td>\n",
              "      <td>WA8312</td>\n",
              "      <td>R2018_85_11350_3_U29358</td>\n",
              "      <td>9-85-501-001-000-2</td>\n",
              "      <td>2018</td>\n",
              "      <td>1</td>\n",
              "      <td>20181105</td>\n",
              "      <td>None</td>\n",
              "      <td>POLYGON ((138.93623 35.06915, 138.93621 35.069...</td>\n",
              "    </tr>\n",
              "    <tr>\n",
              "      <th>...</th>\n",
              "      <td>...</td>\n",
              "      <td>...</td>\n",
              "      <td>...</td>\n",
              "      <td>...</td>\n",
              "      <td>...</td>\n",
              "      <td>...</td>\n",
              "      <td>...</td>\n",
              "      <td>...</td>\n",
              "      <td>...</td>\n",
              "      <td>...</td>\n",
              "      <td>...</td>\n",
              "      <td>...</td>\n",
              "      <td>...</td>\n",
              "      <td>...</td>\n",
              "      <td>...</td>\n",
              "      <td>...</td>\n",
              "    </tr>\n",
              "    <tr>\n",
              "      <th>3188</th>\n",
              "      <td>0</td>\n",
              "      <td>79</td>\n",
              "      <td>0.009195</td>\n",
              "      <td>開放水面</td>\n",
              "      <td>28</td>\n",
              "      <td>28000</td>\n",
              "      <td>28</td>\n",
              "      <td>開放水面</td>\n",
              "      <td>WA8312</td>\n",
              "      <td>R2018_85_11350_3_U29358</td>\n",
              "      <td>9-85-501-001-000-2</td>\n",
              "      <td>2018</td>\n",
              "      <td>1</td>\n",
              "      <td>20181105</td>\n",
              "      <td>None</td>\n",
              "      <td>POLYGON ((138.95272 34.98724, 138.95272 34.987...</td>\n",
              "    </tr>\n",
              "    <tr>\n",
              "      <th>3189</th>\n",
              "      <td>0</td>\n",
              "      <td>79</td>\n",
              "      <td>0.016298</td>\n",
              "      <td>開放水面</td>\n",
              "      <td>28</td>\n",
              "      <td>28000</td>\n",
              "      <td>28</td>\n",
              "      <td>開放水面</td>\n",
              "      <td>WA8312</td>\n",
              "      <td>R2018_85_11350_3_U29358</td>\n",
              "      <td>9-85-501-001-000-2</td>\n",
              "      <td>2018</td>\n",
              "      <td>1</td>\n",
              "      <td>20181105</td>\n",
              "      <td>None</td>\n",
              "      <td>POLYGON ((138.94891 34.98141, 138.94895 34.981...</td>\n",
              "    </tr>\n",
              "    <tr>\n",
              "      <th>3190</th>\n",
              "      <td>0</td>\n",
              "      <td>82</td>\n",
              "      <td>0.011413</td>\n",
              "      <td>ヤナギ高木林</td>\n",
              "      <td>12</td>\n",
              "      <td>12008</td>\n",
              "      <td>128</td>\n",
              "      <td>ジャヤナギ−アカメヤナギ群集（低木林）</td>\n",
              "      <td>WA8312</td>\n",
              "      <td>R2018_85_11350_3_U29358</td>\n",
              "      <td>9-85-501-001-000-2</td>\n",
              "      <td>2018</td>\n",
              "      <td>1</td>\n",
              "      <td>20181105</td>\n",
              "      <td>ヤナギ</td>\n",
              "      <td>POLYGON ((138.93614 35.06527, 138.93615 35.065...</td>\n",
              "    </tr>\n",
              "    <tr>\n",
              "      <th>3191</th>\n",
              "      <td>0</td>\n",
              "      <td>76</td>\n",
              "      <td>0.078064</td>\n",
              "      <td>人工構造物</td>\n",
              "      <td>26</td>\n",
              "      <td>28000</td>\n",
              "      <td>262</td>\n",
              "      <td>コンクリート構造物</td>\n",
              "      <td>WA8312</td>\n",
              "      <td>R2018_85_11350_3_U29358</td>\n",
              "      <td>9-85-501-001-000-2</td>\n",
              "      <td>2018</td>\n",
              "      <td>1</td>\n",
              "      <td>20181105</td>\n",
              "      <td>None</td>\n",
              "      <td>POLYGON ((138.90882 35.08336, 138.90879 35.083...</td>\n",
              "    </tr>\n",
              "    <tr>\n",
              "      <th>3192</th>\n",
              "      <td>0</td>\n",
              "      <td>76</td>\n",
              "      <td>0.082595</td>\n",
              "      <td>人工構造物</td>\n",
              "      <td>26</td>\n",
              "      <td>28000</td>\n",
              "      <td>262</td>\n",
              "      <td>コンクリート構造物</td>\n",
              "      <td>WA8312</td>\n",
              "      <td>R2018_85_11350_3_U29358</td>\n",
              "      <td>9-85-501-001-000-2</td>\n",
              "      <td>2018</td>\n",
              "      <td>1</td>\n",
              "      <td>20181105</td>\n",
              "      <td>None</td>\n",
              "      <td>POLYGON ((138.91149 35.08144, 138.91145 35.081...</td>\n",
              "    </tr>\n",
              "  </tbody>\n",
              "</table>\n",
              "<p>3193 rows × 16 columns</p>\n",
              "</div>\n",
              "      <button class=\"colab-df-convert\" onclick=\"convertToInteractive('df-00321aa0-e2f8-4fc3-871d-8ee13a2e155c')\"\n",
              "              title=\"Convert this dataframe to an interactive table.\"\n",
              "              style=\"display:none;\">\n",
              "        \n",
              "  <svg xmlns=\"http://www.w3.org/2000/svg\" height=\"24px\"viewBox=\"0 0 24 24\"\n",
              "       width=\"24px\">\n",
              "    <path d=\"M0 0h24v24H0V0z\" fill=\"none\"/>\n",
              "    <path d=\"M18.56 5.44l.94 2.06.94-2.06 2.06-.94-2.06-.94-.94-2.06-.94 2.06-2.06.94zm-11 1L8.5 8.5l.94-2.06 2.06-.94-2.06-.94L8.5 2.5l-.94 2.06-2.06.94zm10 10l.94 2.06.94-2.06 2.06-.94-2.06-.94-.94-2.06-.94 2.06-2.06.94z\"/><path d=\"M17.41 7.96l-1.37-1.37c-.4-.4-.92-.59-1.43-.59-.52 0-1.04.2-1.43.59L10.3 9.45l-7.72 7.72c-.78.78-.78 2.05 0 2.83L4 21.41c.39.39.9.59 1.41.59.51 0 1.02-.2 1.41-.59l7.78-7.78 2.81-2.81c.8-.78.8-2.07 0-2.86zM5.41 20L4 18.59l7.72-7.72 1.47 1.35L5.41 20z\"/>\n",
              "  </svg>\n",
              "      </button>\n",
              "      \n",
              "  <style>\n",
              "    .colab-df-container {\n",
              "      display:flex;\n",
              "      flex-wrap:wrap;\n",
              "      gap: 12px;\n",
              "    }\n",
              "\n",
              "    .colab-df-convert {\n",
              "      background-color: #E8F0FE;\n",
              "      border: none;\n",
              "      border-radius: 50%;\n",
              "      cursor: pointer;\n",
              "      display: none;\n",
              "      fill: #1967D2;\n",
              "      height: 32px;\n",
              "      padding: 0 0 0 0;\n",
              "      width: 32px;\n",
              "    }\n",
              "\n",
              "    .colab-df-convert:hover {\n",
              "      background-color: #E2EBFA;\n",
              "      box-shadow: 0px 1px 2px rgba(60, 64, 67, 0.3), 0px 1px 3px 1px rgba(60, 64, 67, 0.15);\n",
              "      fill: #174EA6;\n",
              "    }\n",
              "\n",
              "    [theme=dark] .colab-df-convert {\n",
              "      background-color: #3B4455;\n",
              "      fill: #D2E3FC;\n",
              "    }\n",
              "\n",
              "    [theme=dark] .colab-df-convert:hover {\n",
              "      background-color: #434B5C;\n",
              "      box-shadow: 0px 1px 3px 1px rgba(0, 0, 0, 0.15);\n",
              "      filter: drop-shadow(0px 1px 2px rgba(0, 0, 0, 0.3));\n",
              "      fill: #FFFFFF;\n",
              "    }\n",
              "  </style>\n",
              "\n",
              "      <script>\n",
              "        const buttonEl =\n",
              "          document.querySelector('#df-00321aa0-e2f8-4fc3-871d-8ee13a2e155c button.colab-df-convert');\n",
              "        buttonEl.style.display =\n",
              "          google.colab.kernel.accessAllowed ? 'block' : 'none';\n",
              "\n",
              "        async function convertToInteractive(key) {\n",
              "          const element = document.querySelector('#df-00321aa0-e2f8-4fc3-871d-8ee13a2e155c');\n",
              "          const dataTable =\n",
              "            await google.colab.kernel.invokeFunction('convertToInteractive',\n",
              "                                                     [key], {});\n",
              "          if (!dataTable) return;\n",
              "\n",
              "          const docLinkHtml = 'Like what you see? Visit the ' +\n",
              "            '<a target=\"_blank\" href=https://colab.research.google.com/notebooks/data_table.ipynb>data table notebook</a>'\n",
              "            + ' to learn more about interactive tables.';\n",
              "          element.innerHTML = '';\n",
              "          dataTable['output_type'] = 'display_data';\n",
              "          await google.colab.output.renderOutput(dataTable, element);\n",
              "          const docLink = document.createElement('div');\n",
              "          docLink.innerHTML = docLinkHtml;\n",
              "          element.appendChild(docLink);\n",
              "        }\n",
              "      </script>\n",
              "    </div>\n",
              "  </div>\n",
              "  "
            ],
            "text/plain": [
              "      Id code   area_ha    基本分類  基本分類No  群落コード 群落表示コ                  群落名  \\\n",
              "0      0   02  0.042844  沈水植物群落       1   1003   013            ホザキノフサモ群落   \n",
              "1      0   02  0.015477  沈水植物群落       1   1003   013            ホザキノフサモ群落   \n",
              "2      0   02  0.013277  沈水植物群落       1   1003   013            ホザキノフサモ群落   \n",
              "3      0   02  0.024026  沈水植物群落       1   1003   013            ホザキノフサモ群落   \n",
              "4      0   02  0.062657  沈水植物群落       1   1003   013            ホザキノフサモ群落   \n",
              "...   ..  ...       ...     ...     ...    ...   ...                  ...   \n",
              "3188   0   79  0.009195    開放水面      28  28000    28                 開放水面   \n",
              "3189   0   79  0.016298    開放水面      28  28000    28                 開放水面   \n",
              "3190   0   82  0.011413  ヤナギ高木林      12  12008   128  ジャヤナギ−アカメヤナギ群集（低木林）   \n",
              "3191   0   76  0.078064   人工構造物      26  28000   262            コンクリート構造物   \n",
              "3192   0   76  0.082595   人工構造物      26  28000   262            コンクリート構造物   \n",
              "\n",
              "     lyr_code                    調査管理番               河川コード  調査年度  調査回  \\\n",
              "0      WA8312  R2018_85_11350_3_U29358  9-85-501-001-000-2  2018    1   \n",
              "1      WA8312  R2018_85_11350_3_U29358  9-85-501-001-000-2  2018    1   \n",
              "2      WA8312  R2018_85_11350_3_U29358  9-85-501-001-000-2  2018    1   \n",
              "3      WA8312  R2018_85_11350_3_U29358  9-85-501-001-000-2  2018    1   \n",
              "4      WA8312  R2018_85_11350_3_U29358  9-85-501-001-000-2  2018    1   \n",
              "...       ...                      ...                 ...   ...  ...   \n",
              "3188   WA8312  R2018_85_11350_3_U29358  9-85-501-001-000-2  2018    1   \n",
              "3189   WA8312  R2018_85_11350_3_U29358  9-85-501-001-000-2  2018    1   \n",
              "3190   WA8312  R2018_85_11350_3_U29358  9-85-501-001-000-2  2018    1   \n",
              "3191   WA8312  R2018_85_11350_3_U29358  9-85-501-001-000-2  2018    1   \n",
              "3192   WA8312  R2018_85_11350_3_U29358  9-85-501-001-000-2  2018    1   \n",
              "\n",
              "         調査年月日   表示用                                           geometry  \n",
              "0     20181105  None  POLYGON ((138.93902 35.05341, 138.93902 35.053...  \n",
              "1     20181105  None  POLYGON ((138.93657 35.06657, 138.93655 35.066...  \n",
              "2     20181105  None  POLYGON ((138.93926 35.05376, 138.93923 35.053...  \n",
              "3     20181105  None  POLYGON ((138.93913 35.05392, 138.93914 35.053...  \n",
              "4     20181105  None  POLYGON ((138.93623 35.06915, 138.93621 35.069...  \n",
              "...        ...   ...                                                ...  \n",
              "3188  20181105  None  POLYGON ((138.95272 34.98724, 138.95272 34.987...  \n",
              "3189  20181105  None  POLYGON ((138.94891 34.98141, 138.94895 34.981...  \n",
              "3190  20181105   ヤナギ  POLYGON ((138.93614 35.06527, 138.93615 35.065...  \n",
              "3191  20181105  None  POLYGON ((138.90882 35.08336, 138.90879 35.083...  \n",
              "3192  20181105  None  POLYGON ((138.91149 35.08144, 138.91145 35.081...  \n",
              "\n",
              "[3193 rows x 16 columns]"
            ]
          },
          "execution_count": 6,
          "metadata": {},
          "output_type": "execute_result"
        }
      ],
      "source": [
        "geo_survey"
      ]
    },
    {
      "cell_type": "markdown",
      "metadata": {
        "id": "GW_7omihgicJ"
      },
      "source": [
        "### Parameter Setting"
      ]
    },
    {
      "cell_type": "markdown",
      "metadata": {
        "id": "d6q49r7rjAO5"
      },
      "source": [
        "Select the column to write vector value into pixel"
      ]
    },
    {
      "cell_type": "code",
      "execution_count": 7,
      "metadata": {
        "id": "-teNwl9vgicJ"
      },
      "outputs": [],
      "source": [
        "# Define parameters\n",
        "label_column = '基本分類No'"
      ]
    },
    {
      "cell_type": "markdown",
      "metadata": {
        "id": "pEtQGDsJgicK"
      },
      "source": [
        "### Convert from Vector to Raster"
      ]
    },
    {
      "cell_type": "code",
      "execution_count": 8,
      "metadata": {
        "id": "40lx1qWTgicK"
      },
      "outputs": [],
      "source": [
        "# Project the survey geo into same CRS as the reference image\n",
        "geodata = geo_survey.to_crs(crs=image_ref.crs)\n",
        "\n",
        "# Convert vector to raster\n",
        "shape = image_ref.shape\n",
        "transform = image_ref.transform\n",
        "rasterize_array = rasterize(\n",
        "    [(shape, label) for shape, label in zip(geodata['geometry'], geodata[label_column])],\n",
        "    out_shape=shape,\n",
        "    transform=transform,\n",
        "    fill=0,\n",
        "    all_touched=True,\n",
        "    dtype=rasterio.float32) "
      ]
    },
    {
      "cell_type": "code",
      "execution_count": 9,
      "metadata": {
        "colab": {
          "base_uri": "https://localhost:8080/",
          "height": 595
        },
        "id": "vP93oLJsjiDX",
        "outputId": "24828558-cb92-4c9b-eef2-828fc84d2f7c"
      },
      "outputs": [
        {
          "data": {
            "image/png": "[encoded data removed]",
            "text/plain": [
              "<Figure size 576x720 with 1 Axes>"
            ]
          },
          "metadata": {
            "needs_background": "light"
          },
          "output_type": "display_data"
        }
      ],
      "source": [
        "# Plot rasterized shape\n",
        "plt.figure(figsize=(8,10))\n",
        "plt.imshow(rasterize_array, 'gray')\n",
        "plt.show();"
      ]
    },
    {
      "cell_type": "code",
      "execution_count": 10,
      "metadata": {
        "id": "oF3_JSg9gicL"
      },
      "outputs": [],
      "source": [
        "# Write rasterized array to image (.tif)\n",
        "with rasterio.open(\n",
        "    'rasterized-results.tif', 'w',\n",
        "    driver='GTiff',\n",
        "    dtype=rasterio.float32,\n",
        "    nodata=0,\n",
        "    count=1,\n",
        "    width=rasterize_array.shape[1],\n",
        "    height=rasterize_array.shape[0],\n",
        "    transform=transform,\n",
        "    crs=image_ref.crs\n",
        ") as dst:\n",
        "    dst.write(rasterize_array, indexes=1)"
      ]
    }
  ],
  "metadata": {
    "colab": {
      "provenance": []
    },
    "kernelspec": {
      "display_name": "Python 3.7.10",
      "language": "python",
      "name": "python3"
    },
    "language_info": {
      "codemirror_mode": {
        "name": "ipython",
        "version": 3
      },
      "file_extension": ".py",
      "mimetype": "text/x-python",
      "name": "python",
      "nbconvert_exporter": "python",
      "pygments_lexer": "ipython3",
      "version": "3.7.10"
    },
    "vscode": {
      "interpreter": {
        "hash": "54697fe90b6b48df13497a1835b00f8636d17074f5f61d6ce3a5a8b26dd66d49"
      }
    }
  },
  "nbformat": 4,
  "nbformat_minor": 0
}
